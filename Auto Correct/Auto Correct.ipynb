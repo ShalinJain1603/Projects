{
 "cells": [
  {
   "cell_type": "markdown",
   "metadata": {},
   "source": [
    "# ***Auto Correct / Spelling Checker***\n",
    "<br>\n",
    "A NLP based project based on nltk Corpus and Shakesphere Poems. The Modal correct all the spellings which are one edit wrong. <br>\n",
    "Edit : one of the following from Delete, Insert, Replace, Swap <br>"
   ]
  },
  {
   "cell_type": "markdown",
   "metadata": {},
   "source": [
    "## Timeline\n",
    "<br>\n",
    " 0. Importing all Libraries <br>\n",
    " 1. Creating Vocabalary <br>\n",
    " 2. Processing the Corpus Data <br>\n",
    " 3. Creation of a Word Counter and Probibility Matrix <br>\n",
    " 4. Creating the Edit Functions - Delete,Insert,Swap,Replace <br>\n",
    " 5. Creating the Modal and Min Edit Algorithm <br>"
   ]
  },
  {
   "cell_type": "markdown",
   "metadata": {},
   "source": [
    "## *Importing all Libraries*"
   ]
  },
  {
   "cell_type": "code",
   "execution_count": 237,
   "metadata": {},
   "outputs": [
    {
     "name": "stderr",
     "output_type": "stream",
     "text": [
      "[nltk_data] Downloading package words to\n",
      "[nltk_data]     C:\\Users\\SHALIN\\AppData\\Roaming\\nltk_data...\n",
      "[nltk_data]   Package words is already up-to-date!\n"
     ]
    }
   ],
   "source": [
    "import nltk\n",
    "import numpy as np\n",
    "import pandas as pd\n",
    "nltk.download('words')\n",
    "from nltk.corpus import words\n",
    "import re"
   ]
  },
  {
   "cell_type": "markdown",
   "metadata": {},
   "source": [
    "## *Creating Vocabalary*"
   ]
  },
  {
   "cell_type": "code",
   "execution_count": 18,
   "metadata": {},
   "outputs": [],
   "source": [
    "with open('vocab.txt') as f:\n",
    "    text = f.read()\n",
    "text_lower = text.lower()\n",
    "vocab_1 = re.findall(r'\\w+',text_lower)"
   ]
  },
  {
   "cell_type": "code",
   "execution_count": 25,
   "metadata": {},
   "outputs": [],
   "source": [
    "vocab_2 = words.words()"
   ]
  },
  {
   "cell_type": "markdown",
   "metadata": {},
   "source": [
    "***Formatting Raw Data***"
   ]
  },
  {
   "cell_type": "code",
   "execution_count": 28,
   "metadata": {},
   "outputs": [],
   "source": [
    "with open('shakespeare.txt') as f:\n",
    "    text = f.read()\n",
    "all_words = re.findall(r'\\w+',text_lower)"
   ]
  },
  {
   "cell_type": "code",
   "execution_count": 29,
   "metadata": {},
   "outputs": [],
   "source": [
    "vocab_3 = set(all_words) "
   ]
  },
  {
   "cell_type": "code",
   "execution_count": 30,
   "metadata": {},
   "outputs": [],
   "source": [
    "vocab_3 = list(vocab_3)"
   ]
  },
  {
   "cell_type": "code",
   "execution_count": 32,
   "metadata": {},
   "outputs": [],
   "source": [
    "complete_vocab = vocab_1 + vocab_2 + vocab_3"
   ]
  },
  {
   "cell_type": "code",
   "execution_count": 33,
   "metadata": {},
   "outputs": [],
   "source": [
    "complete_vocab = set(complete_vocab)\n",
    "complete_vocab = list(complete_vocab)"
   ]
  },
  {
   "cell_type": "code",
   "execution_count": 34,
   "metadata": {},
   "outputs": [
    {
     "data": {
      "text/plain": [
       "246211"
      ]
     },
     "execution_count": 34,
     "metadata": {},
     "output_type": "execute_result"
    }
   ],
   "source": [
    "len(complete_vocab)"
   ]
  },
  {
   "cell_type": "markdown",
   "metadata": {},
   "source": [
    "#### So we have a vocablary of 246211 words"
   ]
  },
  {
   "cell_type": "markdown",
   "metadata": {},
   "source": [
    "## *Words_Processing and Creating Counter*"
   ]
  },
  {
   "cell_type": "code",
   "execution_count": 36,
   "metadata": {},
   "outputs": [],
   "source": [
    "word_count = {}"
   ]
  },
  {
   "cell_type": "code",
   "execution_count": 37,
   "metadata": {},
   "outputs": [],
   "source": [
    "for word in complete_vocab:\n",
    "    word_count[word] = 1"
   ]
  },
  {
   "cell_type": "code",
   "execution_count": 39,
   "metadata": {},
   "outputs": [],
   "source": [
    "for word in all_words:\n",
    "    word_count[word] += 1"
   ]
  },
  {
   "cell_type": "code",
   "execution_count": 53,
   "metadata": {},
   "outputs": [],
   "source": [
    "for word in vocab_2:\n",
    "    word_count[word] += 10"
   ]
  },
  {
   "cell_type": "code",
   "execution_count": 54,
   "metadata": {},
   "outputs": [],
   "source": [
    "for word in vocab_1:\n",
    "    word_count[word] += 5"
   ]
  },
  {
   "cell_type": "code",
   "execution_count": 104,
   "metadata": {},
   "outputs": [],
   "source": [
    "n = 0\n",
    "for word in complete_vocab:\n",
    "    n += word_count[word]"
   ]
  },
  {
   "cell_type": "code",
   "execution_count": 105,
   "metadata": {},
   "outputs": [
    {
     "data": {
      "text/plain": [
       "2932315"
      ]
     },
     "execution_count": 105,
     "metadata": {},
     "output_type": "execute_result"
    }
   ],
   "source": [
    "n"
   ]
  },
  {
   "cell_type": "markdown",
   "metadata": {},
   "source": [
    "## *Probabilty Matrix*"
   ]
  },
  {
   "cell_type": "code",
   "execution_count": 106,
   "metadata": {},
   "outputs": [],
   "source": [
    "probs_dict = {}"
   ]
  },
  {
   "cell_type": "code",
   "execution_count": 117,
   "metadata": {},
   "outputs": [],
   "source": [
    "for words in complete_vocab:\n",
    "    probs_dict[words] = (word_count[words]/n)*100"
   ]
  },
  {
   "cell_type": "markdown",
   "metadata": {},
   "source": [
    "## *String Manipulation Functions*"
   ]
  },
  {
   "cell_type": "markdown",
   "metadata": {},
   "source": [
    "***Delete Letter***"
   ]
  },
  {
   "cell_type": "code",
   "execution_count": 159,
   "metadata": {},
   "outputs": [],
   "source": [
    "def delete(word):\n",
    "    delete_l = [];\n",
    "    m = len(word)\n",
    "    for i in range(m):\n",
    "        delete_l.append(word[:i] + word[i+1:])\n",
    "    delete_l = set(delete_l)\n",
    "    return delete_l"
   ]
  },
  {
   "cell_type": "markdown",
   "metadata": {},
   "source": [
    "***Insert Letter***"
   ]
  },
  {
   "cell_type": "code",
   "execution_count": 160,
   "metadata": {},
   "outputs": [],
   "source": [
    "def insert(word):\n",
    "    insert_l = []\n",
    "    letters = 'abcdefghijklmnopqrstuvwxyz'\n",
    "    m = len(word) + 1\n",
    "    for i in range(m):\n",
    "        for j in range(26):\n",
    "            temp = word[:i] + letters[j] + word[i:]\n",
    "            insert_l.append(temp)\n",
    "    insert_l = set(insert_l)\n",
    "    return insert_l"
   ]
  },
  {
   "cell_type": "markdown",
   "metadata": {},
   "source": [
    "***Replace Letter***"
   ]
  },
  {
   "cell_type": "code",
   "execution_count": 161,
   "metadata": {},
   "outputs": [],
   "source": [
    "def replace(word):\n",
    "    letters = 'abcdefghijklmnopqrstuvwxyz'\n",
    "    replace_l = []\n",
    "    m = len(word)\n",
    "    for i in range(m):\n",
    "        for j in range(26):\n",
    "            if (word[i] != letters[j]):\n",
    "                temp = word[:i] + letters[j] + word[i+1:]\n",
    "                replace_l.append(temp)\n",
    "    replace_l = set(replace_l)\n",
    "    return replace_l\n",
    "            "
   ]
  },
  {
   "cell_type": "markdown",
   "metadata": {},
   "source": [
    "***Swap Letter***"
   ]
  },
  {
   "cell_type": "code",
   "execution_count": 162,
   "metadata": {},
   "outputs": [],
   "source": [
    "def swap(word):\n",
    "    swap_l = []\n",
    "    m = len(word)\n",
    "    for i in range(m-1):\n",
    "        head   = word[:i]\n",
    "        swap_1 = word[i]\n",
    "        swap_2 = word[i+1]\n",
    "        tail   = word[i+2:]\n",
    "        temp   = head + swap_2 + swap_1 + tail\n",
    "        swap_l.append(temp)\n",
    "    swap_l = set(swap_l)\n",
    "    return swap_l"
   ]
  },
  {
   "cell_type": "markdown",
   "metadata": {},
   "source": [
    "## *Edit Function and Modal*"
   ]
  },
  {
   "cell_type": "markdown",
   "metadata": {},
   "source": [
    "Edit Function combines all the above functions into one and returns all the possible manipulations"
   ]
  },
  {
   "cell_type": "code",
   "execution_count": 170,
   "metadata": {},
   "outputs": [],
   "source": [
    "def edit(word,Delete = True,Swap = True, Insert = True, Replace = True):\n",
    "    edits = []\n",
    "    d = []\n",
    "    i = []\n",
    "    s = []\n",
    "    r = []\n",
    "    if(Delete):\n",
    "        d = list(delete(word))\n",
    "    if(Swap):\n",
    "        s = list(swap(word))\n",
    "    if(Insert):\n",
    "        i = list(insert(word))\n",
    "    if(Replace):\n",
    "        r = list(replace(word))\n",
    "    edits = d + s + i + r\n",
    "    edits = set(edits)\n",
    "    return edits\n",
    "        "
   ]
  },
  {
   "cell_type": "markdown",
   "metadata": {},
   "source": [
    "Suggest Function picks all the legit words from the list returned by the edit function"
   ]
  },
  {
   "cell_type": "code",
   "execution_count": 173,
   "metadata": {},
   "outputs": [],
   "source": [
    "def Suggestions(word):\n",
    "    temp_words = list(edit(word))\n",
    "    m = len(temp_words)\n",
    "    suggest = []\n",
    "    for i in range(m):\n",
    "        if (temp_words[i] in complete_vocab):\n",
    "            suggest.append(temp_words[i])\n",
    "    return suggest"
   ]
  },
  {
   "cell_type": "markdown",
   "metadata": {},
   "source": [
    "### *Main Modaling Function*\n",
    "<br>\n",
    "Used for picking out the best possible Answer"
   ]
  },
  {
   "cell_type": "code",
   "execution_count": 211,
   "metadata": {},
   "outputs": [],
   "source": [
    "def best_word(word):\n",
    "    word = word.lower()\n",
    "    if (word in complete_vocab):\n",
    "        return word\n",
    "    s = Suggestions(word)\n",
    "    if(len(s) == 0):\n",
    "        return 'No possible Word'\n",
    "    m = len(s)\n",
    "    best = 0\n",
    "    auto_correct = ''\n",
    "    for i in range(m):\n",
    "        if(probs_dict[s[i]] > best):\n",
    "            best = probs_dict[s[i]]\n",
    "            auto_correct = s[i]\n",
    "    return auto_correct\n",
    "        "
   ]
  },
  {
   "cell_type": "markdown",
   "metadata": {},
   "source": [
    "### Some Examples"
   ]
  },
  {
   "cell_type": "code",
   "execution_count": 220,
   "metadata": {},
   "outputs": [],
   "source": [
    "a = 'What a beautifl scool'"
   ]
  },
  {
   "cell_type": "code",
   "execution_count": 221,
   "metadata": {},
   "outputs": [],
   "source": [
    "b = a.split(' ')"
   ]
  },
  {
   "cell_type": "code",
   "execution_count": 222,
   "metadata": {},
   "outputs": [
    {
     "name": "stdout",
     "output_type": "stream",
     "text": [
      "What a beautifl scool\n",
      "what a beautiful school\n"
     ]
    }
   ],
   "source": [
    "c = []\n",
    "for i in range(len(b)):\n",
    "    c.append(best_word(b[i]))\n",
    "print(a)\n",
    "print(' '.join(word for word in c))"
   ]
  },
  {
   "cell_type": "code",
   "execution_count": 242,
   "metadata": {},
   "outputs": [],
   "source": [
    "d = 'bacj'"
   ]
  },
  {
   "cell_type": "code",
   "execution_count": 243,
   "metadata": {},
   "outputs": [
    {
     "name": "stdout",
     "output_type": "stream",
     "text": [
      "bacj\n",
      "back\n"
     ]
    }
   ],
   "source": [
    "print(d)\n",
    "print(best_word(d))"
   ]
  },
  {
   "cell_type": "markdown",
   "metadata": {},
   "source": [
    "### Summary"
   ]
  },
  {
   "cell_type": "code",
   "execution_count": null,
   "metadata": {},
   "outputs": [],
   "source": []
  }
 ],
 "metadata": {
  "kernelspec": {
   "display_name": "Python 3",
   "language": "python",
   "name": "python3"
  },
  "language_info": {
   "codemirror_mode": {
    "name": "ipython",
    "version": 3
   },
   "file_extension": ".py",
   "mimetype": "text/x-python",
   "name": "python",
   "nbconvert_exporter": "python",
   "pygments_lexer": "ipython3",
   "version": "3.7.3"
  }
 },
 "nbformat": 4,
 "nbformat_minor": 2
}
