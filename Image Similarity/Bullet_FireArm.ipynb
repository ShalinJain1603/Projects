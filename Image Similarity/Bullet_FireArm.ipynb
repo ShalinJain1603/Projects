{
 "cells": [
  {
   "cell_type": "code",
   "execution_count": 2,
   "metadata": {},
   "outputs": [
    {
     "name": "stderr",
     "output_type": "stream",
     "text": [
      "Using TensorFlow backend.\n"
     ]
    }
   ],
   "source": [
    "# MAJOR_LIBRARIES_REQUIRED  // MAKE SURE EVERYTHING IS PREINSTALLED IN YOUR PC\n",
    "\n",
    "from zipfile import ZipFile\n",
    "import os\n",
    "from PIL import Image\n",
    "import numpy as np\n",
    "import matplotlib.image as mpimg\n",
    "import pandas as pd\n",
    "from matplotlib import pyplot as plt\n",
    "%matplotlib inline\n",
    "\n",
    "from keras.models import Sequential\n",
    "from keras.layers import Dense, Dropout,BatchNormalization, Flatten, Conv2D, MaxPool2D,Input  # Layers to be used in CNN(Keras) Model\n",
    "from keras.optimizers import RMSprop\n",
    "\n",
    "from sklearn.model_selection import train_test_split\n",
    "from keras.utils.np_utils import to_categorical\n"
   ]
  },
  {
   "cell_type": "markdown",
   "metadata": {},
   "source": [
    "## Taking Inputs"
   ]
  },
  {
   "cell_type": "code",
   "execution_count": 3,
   "metadata": {},
   "outputs": [],
   "source": [
    "from PIL import Image"
   ]
  },
  {
   "cell_type": "code",
   "execution_count": 4,
   "metadata": {},
   "outputs": [],
   "source": [
    "def load_images(folder):\n",
    "    images = []\n",
    "    names = []\n",
    "    for filename in os.listdir(folder):\n",
    "        names.append(filename)\n",
    "        img = Image.open(os.path.join(folder, filename))\n",
    "        img=  img.convert('RGB')\n",
    "        img = img.resize((150,150))\n",
    "        img = np.array(img)\n",
    "        if img is not None:\n",
    "            images.append(img)\n",
    "    return images,names"
   ]
  },
  {
   "cell_type": "code",
   "execution_count": 5,
   "metadata": {},
   "outputs": [],
   "source": [
    "data,labels=load_images('./test/')"
   ]
  },
  {
   "cell_type": "code",
   "execution_count": 19,
   "metadata": {},
   "outputs": [],
   "source": [
    "data = np.array(data)"
   ]
  },
  {
   "cell_type": "code",
   "execution_count": 20,
   "metadata": {},
   "outputs": [
    {
     "data": {
      "text/plain": [
       "(144, 150, 150, 3)"
      ]
     },
     "execution_count": 20,
     "metadata": {},
     "output_type": "execute_result"
    }
   ],
   "source": [
    "data.shape"
   ]
  },
  {
   "cell_type": "code",
   "execution_count": 47,
   "metadata": {},
   "outputs": [],
   "source": [
    "s = []\n",
    "for i in labels:\n",
    "    s.append(i[1:3])"
   ]
  },
  {
   "cell_type": "markdown",
   "metadata": {},
   "source": [
    "## Model Structure"
   ]
  },
  {
   "cell_type": "code",
   "execution_count": 65,
   "metadata": {},
   "outputs": [],
   "source": [
    "model = Sequential([\n",
    "    Conv2D(32, (3, 3), activation='relu', input_shape=(150,150,3)),\n",
    "  \n",
    "    MaxPool2D(pool_size=(2, 2)),\n",
    " \n",
    "    Conv2D(32, (3, 3), activation='relu'),\n",
    "  \n",
    "    MaxPool2D(pool_size=(2, 2)),\n",
    "\n",
    "    Conv2D(64, (3, 3), activation='relu'),\n",
    "\n",
    "    MaxPool2D(pool_size=(2, 2)),\n",
    "\n",
    "    Flatten(),\n",
    "    Dense(64,activation = 'relu'),\n",
    "    BatchNormalization(),\n",
    "    Dropout(0.5),\n",
    "    Dense(6,activation = 'softmax')\n",
    "])"
   ]
  },
  {
   "cell_type": "code",
   "execution_count": 51,
   "metadata": {},
   "outputs": [],
   "source": [
    "y_train = []\n",
    "for i in range(len(s)):\n",
    "    if s[i] == '11':\n",
    "        y_train.append(1)\n",
    "    elif s[i] == '12':\n",
    "        y_train.append(2)\n",
    "    elif s[i] == '21':\n",
    "        y_train.append(3)\n",
    "    elif s[i] == '22':\n",
    "        y_train.append(4)\n",
    "    elif s[i] == '31':\n",
    "        y_train.append(5)\n",
    "    else:\n",
    "        y_train.append(6)"
   ]
  },
  {
   "cell_type": "code",
   "execution_count": 53,
   "metadata": {},
   "outputs": [],
   "source": [
    "y_train = np.array(y_train)"
   ]
  },
  {
   "cell_type": "code",
   "execution_count": 54,
   "metadata": {},
   "outputs": [
    {
     "data": {
      "text/plain": [
       "(144,)"
      ]
     },
     "execution_count": 54,
     "metadata": {},
     "output_type": "execute_result"
    }
   ],
   "source": [
    "y_train.shape"
   ]
  },
  {
   "cell_type": "code",
   "execution_count": 66,
   "metadata": {},
   "outputs": [],
   "source": [
    "model.compile(loss='categorical_crossentropy', optimizer= 'rmsprop' ,metrics=['accuracy'])"
   ]
  },
  {
   "cell_type": "code",
   "execution_count": 56,
   "metadata": {},
   "outputs": [
    {
     "name": "stdout",
     "output_type": "stream",
     "text": [
      "Model: \"sequential_2\"\n",
      "_________________________________________________________________\n",
      "Layer (type)                 Output Shape              Param #   \n",
      "=================================================================\n",
      "conv2d_4 (Conv2D)            (None, 148, 148, 32)      896       \n",
      "_________________________________________________________________\n",
      "max_pooling2d_4 (MaxPooling2 (None, 74, 74, 32)        0         \n",
      "_________________________________________________________________\n",
      "conv2d_5 (Conv2D)            (None, 72, 72, 32)        9248      \n",
      "_________________________________________________________________\n",
      "max_pooling2d_5 (MaxPooling2 (None, 36, 36, 32)        0         \n",
      "_________________________________________________________________\n",
      "conv2d_6 (Conv2D)            (None, 34, 34, 64)        18496     \n",
      "_________________________________________________________________\n",
      "max_pooling2d_6 (MaxPooling2 (None, 17, 17, 64)        0         \n",
      "_________________________________________________________________\n",
      "flatten_2 (Flatten)          (None, 18496)             0         \n",
      "_________________________________________________________________\n",
      "dense_3 (Dense)              (None, 64)                1183808   \n",
      "_________________________________________________________________\n",
      "batch_normalization_2 (Batch (None, 64)                256       \n",
      "_________________________________________________________________\n",
      "dropout_2 (Dropout)          (None, 64)                0         \n",
      "_________________________________________________________________\n",
      "dense_4 (Dense)              (None, 6)                 390       \n",
      "=================================================================\n",
      "Total params: 1,213,094\n",
      "Trainable params: 1,212,966\n",
      "Non-trainable params: 128\n",
      "_________________________________________________________________\n"
     ]
    }
   ],
   "source": [
    "model.summary()"
   ]
  },
  {
   "cell_type": "code",
   "execution_count": 60,
   "metadata": {},
   "outputs": [],
   "source": [
    "y_train = to_categorical(y_train,num_classes=6)"
   ]
  },
  {
   "cell_type": "code",
   "execution_count": 58,
   "metadata": {},
   "outputs": [],
   "source": [
    "y_train = y_train - 1"
   ]
  },
  {
   "cell_type": "code",
   "execution_count": 62,
   "metadata": {},
   "outputs": [
    {
     "data": {
      "text/plain": [
       "(144, 6)"
      ]
     },
     "execution_count": 62,
     "metadata": {},
     "output_type": "execute_result"
    }
   ],
   "source": [
    "y_train.shape"
   ]
  },
  {
   "cell_type": "code",
   "execution_count": 67,
   "metadata": {},
   "outputs": [
    {
     "name": "stdout",
     "output_type": "stream",
     "text": [
      "Epoch 1/20\n",
      "144/144 [==============================] - 3s 23ms/step - loss: 1.9107 - accuracy: 0.3056\n",
      "Epoch 2/20\n",
      "144/144 [==============================] - 3s 19ms/step - loss: 1.5730 - accuracy: 0.3889\n",
      "Epoch 3/20\n",
      "144/144 [==============================] - 3s 19ms/step - loss: 1.3987 - accuracy: 0.5000\n",
      "Epoch 4/20\n",
      "144/144 [==============================] - 3s 19ms/step - loss: 1.2806 - accuracy: 0.5764\n",
      "Epoch 5/20\n",
      "144/144 [==============================] - 3s 19ms/step - loss: 1.2492 - accuracy: 0.5694\n",
      "Epoch 6/20\n",
      "144/144 [==============================] - 3s 19ms/step - loss: 1.1126 - accuracy: 0.6181\n",
      "Epoch 7/20\n",
      "144/144 [==============================] - 3s 19ms/step - loss: 1.0535 - accuracy: 0.6597\n",
      "Epoch 8/20\n",
      "144/144 [==============================] - 3s 19ms/step - loss: 1.0903 - accuracy: 0.6597\n",
      "Epoch 9/20\n",
      "144/144 [==============================] - 3s 19ms/step - loss: 1.0826 - accuracy: 0.6597\n",
      "Epoch 10/20\n",
      "144/144 [==============================] - 3s 20ms/step - loss: 0.8829 - accuracy: 0.7708\n",
      "Epoch 11/20\n",
      "144/144 [==============================] - 3s 19ms/step - loss: 0.8956 - accuracy: 0.7361\n",
      "Epoch 12/20\n",
      "144/144 [==============================] - 3s 19ms/step - loss: 0.6737 - accuracy: 0.8472\n",
      "Epoch 13/20\n",
      "144/144 [==============================] - 3s 20ms/step - loss: 0.6495 - accuracy: 0.8542\n",
      "Epoch 14/20\n",
      "144/144 [==============================] - 3s 20ms/step - loss: 0.6139 - accuracy: 0.8819\n",
      "Epoch 15/20\n",
      "144/144 [==============================] - 3s 19ms/step - loss: 0.4715 - accuracy: 0.9097\n",
      "Epoch 16/20\n",
      "144/144 [==============================] - 3s 20ms/step - loss: 0.4397 - accuracy: 0.9028\n",
      "Epoch 17/20\n",
      "144/144 [==============================] - 3s 19ms/step - loss: 0.3005 - accuracy: 0.9861\n",
      "Epoch 18/20\n",
      "144/144 [==============================] - 3s 20ms/step - loss: 0.2364 - accuracy: 0.9861\n",
      "Epoch 19/20\n",
      "144/144 [==============================] - 3s 22ms/step - loss: 0.2781 - accuracy: 0.9653\n",
      "Epoch 20/20\n",
      "144/144 [==============================] - 3s 20ms/step - loss: 0.2236 - accuracy: 0.9792\n"
     ]
    }
   ],
   "source": [
    "history = model.fit(data,y_train,epochs = 20)"
   ]
  },
  {
   "cell_type": "code",
   "execution_count": 70,
   "metadata": {},
   "outputs": [
    {
     "data": {
      "text/plain": [
       "['bullet_firearm.pkl']"
      ]
     },
     "execution_count": 70,
     "metadata": {},
     "output_type": "execute_result"
    }
   ],
   "source": [
    "from sklearn.externals import joblib\n",
    "joblib.dump(model, 'bullet_firearm.pkl')"
   ]
  },
  {
   "cell_type": "code",
   "execution_count": 25,
   "metadata": {},
   "outputs": [],
   "source": [
    "predictions = model.predict(data[60])\n",
    "max_value = np.argmax(predictions,axis = 1)\n",
    "final_answer = []\n",
    "for i in range(len(max_value)):\n",
    "    if max_value[i] == 0:\n",
    "        final_answer.append(11)\n",
    "    elif max_value[i] == 1:\n",
    "        final_answer.append(12)\n",
    "    elif max_value[i] == 2:\n",
    "        final_answer.append(21)\n",
    "    elif max_value[i] == 3:\n",
    "        final_answer.append(22)\n",
    "    elif max_value[i] == 4:\n",
    "        final_answer.append(31)\n",
    "    else:\n",
    "        final_answer.append(32)"
   ]
  },
  {
   "cell_type": "markdown",
   "metadata": {},
   "source": [
    "# TEST"
   ]
  },
  {
   "cell_type": "code",
   "execution_count": 57,
   "metadata": {},
   "outputs": [],
   "source": [
    "from sklearn.externals import joblib \n",
    "model = joblib.load('bullet_firearm.pkl')"
   ]
  },
  {
   "cell_type": "code",
   "execution_count": 58,
   "metadata": {},
   "outputs": [
    {
     "data": {
      "text/plain": [
       "array([[1.5981779e-07, 4.4107437e-06, 5.3589214e-03, 7.8269967e-04,\n",
       "        9.4060151e-06, 9.9384439e-01]], dtype=float32)"
      ]
     },
     "execution_count": 58,
     "metadata": {},
     "output_type": "execute_result"
    }
   ],
   "source": [
    "data[122] = data[12].reshape(1,150,150,3)\n",
    "model.predict(data[142])"
   ]
  },
  {
   "cell_type": "code",
   "execution_count": 59,
   "metadata": {},
   "outputs": [],
   "source": [
    "predictions = model.predict(data[60])\n",
    "max_value = np.argmax(predictions,axis = 1)\n",
    "final_answer = []\n",
    "for i in range(len(max_value)):\n",
    "    if max_value[i] == 0:\n",
    "        final_answer.append(\"a11\")\n",
    "    elif max_value[i] == 1:\n",
    "        final_answer.append(\"a12\")\n",
    "    elif max_value[i] == 2:\n",
    "        final_answer.append(\"a21\")\n",
    "    elif max_value[i] == 3:\n",
    "        final_answer.append(\"a22\")\n",
    "    elif max_value[i] == 4:\n",
    "        final_answer.append(\"a31\")\n",
    "    else:\n",
    "        final_answer.append(\"a32\")"
   ]
  },
  {
   "cell_type": "code",
   "execution_count": 60,
   "metadata": {},
   "outputs": [
    {
     "data": {
      "text/plain": [
       "['a21']"
      ]
     },
     "execution_count": 60,
     "metadata": {},
     "output_type": "execute_result"
    }
   ],
   "source": [
    "final_answer"
   ]
  },
  {
   "cell_type": "markdown",
   "metadata": {},
   "source": [
    "Predicted Answer"
   ]
  },
  {
   "cell_type": "code",
   "execution_count": 61,
   "metadata": {},
   "outputs": [
    {
     "data": {
      "text/plain": [
       "'a32 g6 p3.jpg'"
      ]
     },
     "execution_count": 61,
     "metadata": {},
     "output_type": "execute_result"
    }
   ],
   "source": [
    "labels[142]"
   ]
  },
  {
   "cell_type": "markdown",
   "metadata": {},
   "source": [
    "Actual Answer"
   ]
  },
  {
   "cell_type": "markdown",
   "metadata": {},
   "source": [
    "So the model works correctly ,, the input image was the 60th image i.e. 'a21 g4 p1.jpg' and our model predicted a21, Thus it fails in some cases as accuracy is not 100%"
   ]
  },
  {
   "cell_type": "code",
   "execution_count": 44,
   "metadata": {},
   "outputs": [],
   "source": [
    "final_answer = []\n",
    "for i in range(140):\n",
    "    data[i] = data[i].reshape(1,150,150,3)\n",
    "    predictions = model.predict(data[60])\n",
    "    max_value = np.argmax(predictions,axis = 1)\n",
    "    #final_answer = []\n",
    "    for i in range(len(max_value)):\n",
    "        if max_value[i] == 0:\n",
    "            final_answer.append(\"a11\")\n",
    "        elif max_value[i] == 1:\n",
    "            final_answer.append(\"a12\")\n",
    "        elif max_value[i] == 2:\n",
    "            final_answer.append(\"a21\")\n",
    "        elif max_value[i] == 3:\n",
    "            final_answer.append(\"a22\")\n",
    "        elif max_value[i] == 4:\n",
    "            final_answer.append(\"a31\")\n",
    "        else:\n",
    "            final_answer.append(\"a32\")\n"
   ]
  },
  {
   "cell_type": "code",
   "execution_count": 45,
   "metadata": {},
   "outputs": [
    {
     "data": {
      "text/plain": [
       "['a21',\n",
       " 'a21',\n",
       " 'a21',\n",
       " 'a21',\n",
       " 'a21',\n",
       " 'a21',\n",
       " 'a21',\n",
       " 'a21',\n",
       " 'a21',\n",
       " 'a21',\n",
       " 'a21',\n",
       " 'a21',\n",
       " 'a21',\n",
       " 'a21',\n",
       " 'a21',\n",
       " 'a21',\n",
       " 'a21',\n",
       " 'a21',\n",
       " 'a21',\n",
       " 'a21',\n",
       " 'a21',\n",
       " 'a21',\n",
       " 'a21',\n",
       " 'a21',\n",
       " 'a21',\n",
       " 'a21',\n",
       " 'a21',\n",
       " 'a21',\n",
       " 'a21',\n",
       " 'a21',\n",
       " 'a21',\n",
       " 'a21',\n",
       " 'a21',\n",
       " 'a21',\n",
       " 'a21',\n",
       " 'a21',\n",
       " 'a21',\n",
       " 'a21',\n",
       " 'a21',\n",
       " 'a21',\n",
       " 'a21',\n",
       " 'a21',\n",
       " 'a21',\n",
       " 'a21',\n",
       " 'a21',\n",
       " 'a21',\n",
       " 'a21',\n",
       " 'a21',\n",
       " 'a21',\n",
       " 'a21',\n",
       " 'a21',\n",
       " 'a21',\n",
       " 'a21',\n",
       " 'a21',\n",
       " 'a21',\n",
       " 'a21',\n",
       " 'a21',\n",
       " 'a21',\n",
       " 'a21',\n",
       " 'a21',\n",
       " 'a21',\n",
       " 'a21',\n",
       " 'a21',\n",
       " 'a21',\n",
       " 'a21',\n",
       " 'a21',\n",
       " 'a21',\n",
       " 'a21',\n",
       " 'a21',\n",
       " 'a21',\n",
       " 'a21',\n",
       " 'a21',\n",
       " 'a21',\n",
       " 'a21',\n",
       " 'a21',\n",
       " 'a21',\n",
       " 'a21',\n",
       " 'a21',\n",
       " 'a21',\n",
       " 'a21',\n",
       " 'a21',\n",
       " 'a21',\n",
       " 'a21',\n",
       " 'a21',\n",
       " 'a21',\n",
       " 'a21',\n",
       " 'a21',\n",
       " 'a21',\n",
       " 'a21',\n",
       " 'a21',\n",
       " 'a21',\n",
       " 'a21',\n",
       " 'a21',\n",
       " 'a21',\n",
       " 'a21',\n",
       " 'a21',\n",
       " 'a21',\n",
       " 'a21',\n",
       " 'a21',\n",
       " 'a21',\n",
       " 'a21',\n",
       " 'a21',\n",
       " 'a21',\n",
       " 'a21',\n",
       " 'a21',\n",
       " 'a21',\n",
       " 'a21',\n",
       " 'a21',\n",
       " 'a21',\n",
       " 'a21',\n",
       " 'a21',\n",
       " 'a21',\n",
       " 'a21',\n",
       " 'a21',\n",
       " 'a21',\n",
       " 'a21',\n",
       " 'a21',\n",
       " 'a21',\n",
       " 'a21',\n",
       " 'a21',\n",
       " 'a21',\n",
       " 'a21',\n",
       " 'a21',\n",
       " 'a21',\n",
       " 'a21',\n",
       " 'a21',\n",
       " 'a21',\n",
       " 'a21',\n",
       " 'a21',\n",
       " 'a21',\n",
       " 'a21',\n",
       " 'a21',\n",
       " 'a21',\n",
       " 'a21',\n",
       " 'a21',\n",
       " 'a21',\n",
       " 'a21',\n",
       " 'a21',\n",
       " 'a21',\n",
       " 'a21']"
      ]
     },
     "execution_count": 45,
     "metadata": {},
     "output_type": "execute_result"
    }
   ],
   "source": [
    "final_answer"
   ]
  },
  {
   "cell_type": "code",
   "execution_count": null,
   "metadata": {},
   "outputs": [],
   "source": []
  },
  {
   "cell_type": "code",
   "execution_count": null,
   "metadata": {},
   "outputs": [],
   "source": []
  },
  {
   "cell_type": "code",
   "execution_count": null,
   "metadata": {},
   "outputs": [],
   "source": []
  },
  {
   "cell_type": "code",
   "execution_count": null,
   "metadata": {},
   "outputs": [],
   "source": []
  },
  {
   "cell_type": "code",
   "execution_count": null,
   "metadata": {},
   "outputs": [],
   "source": []
  },
  {
   "cell_type": "code",
   "execution_count": null,
   "metadata": {},
   "outputs": [],
   "source": []
  },
  {
   "cell_type": "code",
   "execution_count": null,
   "metadata": {},
   "outputs": [],
   "source": []
  },
  {
   "cell_type": "code",
   "execution_count": null,
   "metadata": {},
   "outputs": [],
   "source": []
  },
  {
   "cell_type": "code",
   "execution_count": null,
   "metadata": {},
   "outputs": [],
   "source": []
  },
  {
   "cell_type": "code",
   "execution_count": null,
   "metadata": {},
   "outputs": [],
   "source": []
  },
  {
   "cell_type": "code",
   "execution_count": null,
   "metadata": {},
   "outputs": [],
   "source": []
  }
 ],
 "metadata": {
  "kernelspec": {
   "display_name": "Python 3",
   "language": "python",
   "name": "python3"
  },
  "language_info": {
   "codemirror_mode": {
    "name": "ipython",
    "version": 3
   },
   "file_extension": ".py",
   "mimetype": "text/x-python",
   "name": "python",
   "nbconvert_exporter": "python",
   "pygments_lexer": "ipython3",
   "version": "3.7.3"
  }
 },
 "nbformat": 4,
 "nbformat_minor": 2
}
